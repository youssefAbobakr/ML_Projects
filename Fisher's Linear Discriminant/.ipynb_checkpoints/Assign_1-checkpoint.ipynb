{
 "cells": [
  {
   "cell_type": "code",
   "execution_count": 1,
   "metadata": {},
   "outputs": [],
   "source": [
    "import numpy as np\n",
    "import matplotlib.pyplot as plt"
   ]
  },
  {
   "cell_type": "code",
   "execution_count": 2,
   "metadata": {},
   "outputs": [
    {
     "name": "stdout",
     "output_type": "stream",
     "text": [
      "(2400, 784) (200, 784)\n",
      "(2400,) (200,)\n"
     ]
    }
   ],
   "source": [
    "# Read Training Images, Testing Images, Training Labels, Testing Labels\n",
    "train = np.array([plt.imread('Data/Train/'+str(i)+'.jpg').reshape(-1) for i in range (1,2401)])\n",
    "test = np.array([plt.imread('Data/Test/'+str(i)+'.jpg').reshape(-1) for i in range (1,201)])\n",
    "train_labels = np.loadtxt('Data/Train/Training Labels.txt')\n",
    "test_labels = np.loadtxt('Data/Test/Test Labels.txt')\n",
    "print(train.shape, test.shape)\n",
    "print(train_labels.shape,test_labels.shape)"
   ]
  },
  {
   "cell_type": "code",
   "execution_count": 3,
   "metadata": {},
   "outputs": [
    {
     "data": {
      "text/plain": [
       "(10, 784, 784)"
      ]
     },
     "execution_count": 3,
     "metadata": {},
     "output_type": "execute_result"
    }
   ],
   "source": [
    "# Calculate covariance matrix for each Class\n",
    "covs = np.array([np.cov((train[train_labels==i]-np.mean(train[train_labels==i],axis=0)).T) for i in range(0,10)])\n",
    "covs.shape"
   ]
  },
  {
   "cell_type": "code",
   "execution_count": 4,
   "metadata": {},
   "outputs": [
    {
     "data": {
      "text/plain": [
       "(10, 784, 784)"
      ]
     },
     "execution_count": 4,
     "metadata": {},
     "output_type": "execute_result"
    }
   ],
   "source": [
    "# Calculate covariance matrix for (all classes - Current Class)\n",
    "noncovs = np.array([np.cov((train[train_labels!=i]-np.mean(train[train_labels!=i],axis=0)).T) for i in range(0,10)])\n",
    "noncovs.shape"
   ]
  },
  {
   "cell_type": "code",
   "execution_count": 5,
   "metadata": {},
   "outputs": [
    {
     "data": {
      "text/plain": [
       "(10, 784)"
      ]
     },
     "execution_count": 5,
     "metadata": {},
     "output_type": "execute_result"
    }
   ],
   "source": [
    "# Calculate mean for Class\n",
    "mus = np.array([train[train_labels==i].mean(axis=0) for i in range(0,10)])\n",
    "mus.shape"
   ]
  },
  {
   "cell_type": "code",
   "execution_count": 6,
   "metadata": {},
   "outputs": [
    {
     "data": {
      "text/plain": [
       "(10, 784)"
      ]
     },
     "execution_count": 6,
     "metadata": {},
     "output_type": "execute_result"
    }
   ],
   "source": [
    "# Calculate mean for (all classes - Current Class)\n",
    "nonmus = np.array([train[train_labels!=i].mean(axis=0) for i in range(0,10)])\n",
    "nonmus.shape"
   ]
  },
  {
   "cell_type": "code",
   "execution_count": 7,
   "metadata": {},
   "outputs": [
    {
     "data": {
      "text/plain": [
       "(10, 784)"
      ]
     },
     "execution_count": 7,
     "metadata": {},
     "output_type": "execute_result"
    }
   ],
   "source": [
    "# Calculate Weight Vectors for each Class\n",
    "Ws = np.array([np.linalg.pinv(covs[i]+noncovs[i]) @ (mus[i]-nonmus[i]) for i in range(0,10)])\n",
    "Ws.shape"
   ]
  },
  {
   "cell_type": "code",
   "execution_count": 8,
   "metadata": {},
   "outputs": [
    {
     "data": {
      "text/plain": [
       "(200, 10)"
      ]
     },
     "execution_count": 8,
     "metadata": {},
     "output_type": "execute_result"
    }
   ],
   "source": [
    "# Calculate dot product between test points and Weight Vectors\n",
    "results = (test-np.mean(test,axis=0)) @ Ws.T\n",
    "results.shape"
   ]
  },
  {
   "cell_type": "code",
   "execution_count": 9,
   "metadata": {},
   "outputs": [
    {
     "data": {
      "text/plain": [
       "array([0, 0, 0, 0, 0, 0, 0, 0, 0, 0, 0, 0, 0, 0, 0, 0, 0, 0, 0, 0, 1, 1,\n",
       "       1, 1, 1, 1, 1, 1, 1, 1, 1, 1, 1, 1, 1, 1, 1, 1, 1, 1, 2, 1, 2, 1,\n",
       "       2, 2, 0, 4, 3, 2, 0, 2, 1, 5, 2, 6, 4, 2, 2, 2, 2, 8, 3, 3, 5, 3,\n",
       "       3, 1, 3, 3, 3, 3, 3, 5, 3, 3, 3, 6, 3, 3, 4, 4, 4, 0, 4, 4, 4, 4,\n",
       "       6, 5, 4, 4, 7, 4, 4, 4, 1, 1, 4, 4, 0, 5, 2, 6, 5, 5, 5, 5, 5, 5,\n",
       "       9, 5, 6, 5, 5, 5, 9, 5, 5, 5, 6, 6, 6, 6, 6, 6, 6, 6, 6, 6, 6, 6,\n",
       "       6, 6, 6, 6, 6, 6, 6, 6, 7, 7, 7, 7, 7, 7, 7, 7, 7, 9, 1, 7, 7, 7,\n",
       "       4, 7, 7, 7, 7, 0, 8, 8, 8, 9, 5, 8, 8, 8, 2, 8, 8, 8, 8, 2, 8, 8,\n",
       "       8, 7, 8, 8, 9, 7, 9, 7, 7, 7, 7, 5, 9, 3, 4, 9, 9, 9, 7, 0, 9, 0,\n",
       "       9, 9])"
      ]
     },
     "execution_count": 9,
     "metadata": {},
     "output_type": "execute_result"
    }
   ],
   "source": [
    "# Calculate predictions\n",
    "predictions = np.argmax(results,axis=1)\n",
    "predictions"
   ]
  },
  {
   "cell_type": "code",
   "execution_count": 10,
   "metadata": {},
   "outputs": [
    {
     "data": {
      "text/plain": [
       "array([[20,  0,  0,  0,  0,  0,  0,  0,  0,  0],\n",
       "       [ 0, 20,  0,  0,  0,  0,  0,  0,  0,  0],\n",
       "       [ 2,  3, 10,  1,  2,  1,  1,  0,  0,  0],\n",
       "       [ 0,  1,  1, 14,  0,  2,  1,  0,  1,  0],\n",
       "       [ 1,  2,  0,  0, 14,  1,  1,  1,  0,  0],\n",
       "       [ 1,  0,  1,  0,  0, 14,  2,  0,  0,  2],\n",
       "       [ 0,  0,  0,  0,  0,  0, 20,  0,  0,  0],\n",
       "       [ 1,  1,  0,  0,  1,  0,  0, 16,  0,  1],\n",
       "       [ 0,  0,  2,  0,  0,  1,  0,  1, 15,  1],\n",
       "       [ 2,  0,  0,  1,  1,  1,  0,  6,  0,  9]])"
      ]
     },
     "execution_count": 10,
     "metadata": {},
     "output_type": "execute_result"
    }
   ],
   "source": [
    "# Calculate confusion matrix \n",
    "confusion_matrix = np.array([np.histogram(np.split(predictions,10)[i],bins=[0,1,2,3,4,5,6,7,8,9,10])[0] for i in range(0,10)])\n",
    "confusion_matrix"
   ]
  },
  {
   "cell_type": "code",
   "execution_count": 11,
   "metadata": {},
   "outputs": [
    {
     "data": {
      "image/png": "[encoded data removed]",
      "text/plain": [
       "<Figure size 720x720 with 1 Axes>"
      ]
     },
     "metadata": {
      "needs_background": "light"
     },
     "output_type": "display_data"
    }
   ],
   "source": [
    "# Plot Confusion Matrix\n",
    "plt.rc('figure', figsize=[20,10])\n",
    "plt.matshow(confusion_matrix,cmap=\"Blues\")\n",
    "for i in range(0,confusion_matrix.shape[0]):\n",
    "    for j in range(0,confusion_matrix.shape[1]):\n",
    "        plt.annotate(confusion_matrix[i,j],(j,i))"
   ]
  },
  {
   "cell_type": "code",
   "execution_count": 12,
   "metadata": {},
   "outputs": [
    {
     "name": "stdout",
     "output_type": "stream",
     "text": [
      "Overall accuracy:  0.76\n"
     ]
    }
   ],
   "source": [
    "# Calculate Accuracy\n",
    "print(\"Overall accuracy: \",(np.sum(np.diag(confusion_matrix)))/test.shape[0])"
   ]
  }
 ],
 "metadata": {
  "kernelspec": {
   "display_name": "Python 3",
   "language": "python",
   "name": "python3"
  },
  "language_info": {
   "codemirror_mode": {
    "name": "ipython",
    "version": 3
   },
   "file_extension": ".py",
   "mimetype": "text/x-python",
   "name": "python",
   "nbconvert_exporter": "python",
   "pygments_lexer": "ipython3",
   "version": "3.6.10"
  }
 },
 "nbformat": 4,
 "nbformat_minor": 4
}
